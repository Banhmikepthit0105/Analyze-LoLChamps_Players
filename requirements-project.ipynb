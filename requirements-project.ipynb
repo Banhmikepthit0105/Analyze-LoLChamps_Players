{
 "cells": [
  {
   "cell_type": "markdown",
   "metadata": {},
   "source": [
    "# **QUY ĐỊNH VÀ HƯỚNG DẪN**\n",
    "\n",
    "## 🚫 **KHÔNG ĐƯỢC CHIA SẺ TÀI LIỆU LIÊN QUAN, SOURCE CODE CHO NHÓM KHÁC**\n",
    "\n",
    "---\n",
    "\n",
    "## 🔥 **MỨC 1: Vibe Coding**\n",
    "### 🎯 **Yêu cầu**\n",
    "- Xây dựng và thiết kế vibe-coding.\n",
    "- Đánh giá kết quả trả về trong quá trình thực hiện.\n",
    "\n",
    "### 🛠 **Hướng dẫn**\n",
    "- Sử dụng website sau để build front-end theo phong cách vibe-coding:  \n",
    "  👉 [DeepSite trên Hugging Face](https://huggingface.co/spaces/enzostvs/deepsite)\n",
    "\n",
    "---\n",
    "\n",
    "## 🤖 **MỨC 2: Công Cụ Hỗ Trợ AI**\n",
    "### ⚠ **Hạn chế**\n",
    "- Tableau và Power BI có AI tích hợp sẵn nhưng chỉ hỗ trợ tiếng Anh.\n",
    "- Gặp khó khăn khi giao tiếp bằng tiếng Việt.\n",
    "\n",
    "### 🚀 **Yêu cầu**\n",
    "- Viết giao diện chatbot để hỗ trợ giao tiếp bằng tiếng Việt.\n",
    "- Sử dụng API chatbot để gửi yêu cầu và nhận kết quả.\n",
    "- Đánh giá kết quả đúng/sai.\n",
    "- Nếu sai, đề xuất cách cải thiện đánh giá.\n",
    "\n",
    "### 📌 **Ví dụ**\n",
    "❓ **Yêu cầu:** Vẽ biểu đồ phân tích hồi quy giữa biến X và Y.  \n",
    "✅ **Kết quả mong muốn:** Trả về bảng kết quả phân tích.\n",
    "\n",
    "### 🛠 **Hướng dẫn**\n",
    "- Sử dụng **PandasAI** để phân tích dữ liệu.\n",
    "- Đăng ký API key và upload dữ liệu tại:  \n",
    "  👉 [PandasAI](https://app.pandabi.ai/sign-in)\n",
    "- Đọc tài liệu API tại:  \n",
    "  📖 [PandasAI Documentation](https://docs.getpanda.ai/v3/introduction)\n",
    "\n",
    "---"
   ]
  }
 ],
 "metadata": {
  "language_info": {
   "name": "python"
  }
 },
 "nbformat": 4,
 "nbformat_minor": 2
}
